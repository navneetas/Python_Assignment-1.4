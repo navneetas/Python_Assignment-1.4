{
 "cells": [
  {
   "cell_type": "code",
   "execution_count": 16,
   "metadata": {},
   "outputs": [
    {
     "name": "stdout",
     "output_type": "stream",
     "text": [
      "Volume of the sphere = 4/3 x π x r3\n",
      "                  = 904.78\n"
     ]
    }
   ],
   "source": [
    "d=12        # d is the diameter  \n",
    "r= 12/2     #r, radius is half the diameter \n",
    "π = 3.14159\n",
    "\n",
    "\n",
    "##Calculation###\n",
    "\n",
    "V = 4/3 *π * (r*r*r)\n",
    "V= round(V, 2)       ## This will the round off the result to 2 decimal places\n",
    "\n",
    "## Printing the result ##\n",
    "\n",
    "print (\"Volume of the sphere = 4/3 x π x r3\")\n",
    "print(\"                  =\",V)\n"
   ]
  },
  {
   "cell_type": "code",
   "execution_count": null,
   "metadata": {},
   "outputs": [],
   "source": []
  }
 ],
 "metadata": {
  "kernelspec": {
   "display_name": "Python 3",
   "language": "python",
   "name": "python3"
  },
  "language_info": {
   "codemirror_mode": {
    "name": "ipython",
    "version": 3
   },
   "file_extension": ".py",
   "mimetype": "text/x-python",
   "name": "python",
   "nbconvert_exporter": "python",
   "pygments_lexer": "ipython3",
   "version": "3.6.4"
  }
 },
 "nbformat": 4,
 "nbformat_minor": 2
}
